{
 "cells": [
  {
   "cell_type": "markdown",
   "id": "4c62ed05-e8b4-444e-9514-11b6f9ad8780",
   "metadata": {},
   "source": [
    "#### knn alghorithm example"
   ]
  },
  {
   "cell_type": "markdown",
   "id": "76486734-0625-4e56-acb3-c50fd5986624",
   "metadata": {},
   "source": [
    "##### import library"
   ]
  },
  {
   "cell_type": "code",
   "execution_count": 101,
   "id": "13cdcfbf-d0f3-4e3d-a16d-9f3f6c41050c",
   "metadata": {},
   "outputs": [],
   "source": [
    "import numpy as np\n",
    "import matplotlib.pyplot as plt\n",
    "import pandas as pd\n",
    "import numpy as np\n",
    "from sklearn import preprocessing"
   ]
  },
  {
   "cell_type": "markdown",
   "id": "259727cb-cbf2-4fe8-af1e-ff2a7460abe4",
   "metadata": {},
   "source": [
    "#### read csv file"
   ]
  },
  {
   "cell_type": "code",
   "execution_count": 102,
   "id": "f998dffe-cbd2-4df4-99ce-448d0a24b914",
   "metadata": {},
   "outputs": [
    {
     "data": {
      "text/html": [
       "<div>\n",
       "<style scoped>\n",
       "    .dataframe tbody tr th:only-of-type {\n",
       "        vertical-align: middle;\n",
       "    }\n",
       "\n",
       "    .dataframe tbody tr th {\n",
       "        vertical-align: top;\n",
       "    }\n",
       "\n",
       "    .dataframe thead th {\n",
       "        text-align: right;\n",
       "    }\n",
       "</style>\n",
       "<table border=\"1\" class=\"dataframe\">\n",
       "  <thead>\n",
       "    <tr style=\"text-align: right;\">\n",
       "      <th></th>\n",
       "      <th>region</th>\n",
       "      <th>tenure</th>\n",
       "      <th>age</th>\n",
       "      <th>marital</th>\n",
       "      <th>address</th>\n",
       "      <th>income</th>\n",
       "      <th>ed</th>\n",
       "      <th>employ</th>\n",
       "      <th>retire</th>\n",
       "      <th>gender</th>\n",
       "      <th>reside</th>\n",
       "      <th>custcat</th>\n",
       "    </tr>\n",
       "  </thead>\n",
       "  <tbody>\n",
       "    <tr>\n",
       "      <th>0</th>\n",
       "      <td>2</td>\n",
       "      <td>13</td>\n",
       "      <td>44</td>\n",
       "      <td>1</td>\n",
       "      <td>9</td>\n",
       "      <td>64.0</td>\n",
       "      <td>4</td>\n",
       "      <td>5</td>\n",
       "      <td>0.0</td>\n",
       "      <td>0</td>\n",
       "      <td>2</td>\n",
       "      <td>1</td>\n",
       "    </tr>\n",
       "    <tr>\n",
       "      <th>1</th>\n",
       "      <td>3</td>\n",
       "      <td>11</td>\n",
       "      <td>33</td>\n",
       "      <td>1</td>\n",
       "      <td>7</td>\n",
       "      <td>136.0</td>\n",
       "      <td>5</td>\n",
       "      <td>5</td>\n",
       "      <td>0.0</td>\n",
       "      <td>0</td>\n",
       "      <td>6</td>\n",
       "      <td>4</td>\n",
       "    </tr>\n",
       "    <tr>\n",
       "      <th>2</th>\n",
       "      <td>3</td>\n",
       "      <td>68</td>\n",
       "      <td>52</td>\n",
       "      <td>1</td>\n",
       "      <td>24</td>\n",
       "      <td>116.0</td>\n",
       "      <td>1</td>\n",
       "      <td>29</td>\n",
       "      <td>0.0</td>\n",
       "      <td>1</td>\n",
       "      <td>2</td>\n",
       "      <td>3</td>\n",
       "    </tr>\n",
       "    <tr>\n",
       "      <th>3</th>\n",
       "      <td>2</td>\n",
       "      <td>33</td>\n",
       "      <td>33</td>\n",
       "      <td>0</td>\n",
       "      <td>12</td>\n",
       "      <td>33.0</td>\n",
       "      <td>2</td>\n",
       "      <td>0</td>\n",
       "      <td>0.0</td>\n",
       "      <td>1</td>\n",
       "      <td>1</td>\n",
       "      <td>1</td>\n",
       "    </tr>\n",
       "    <tr>\n",
       "      <th>4</th>\n",
       "      <td>2</td>\n",
       "      <td>23</td>\n",
       "      <td>30</td>\n",
       "      <td>1</td>\n",
       "      <td>9</td>\n",
       "      <td>30.0</td>\n",
       "      <td>1</td>\n",
       "      <td>2</td>\n",
       "      <td>0.0</td>\n",
       "      <td>0</td>\n",
       "      <td>4</td>\n",
       "      <td>3</td>\n",
       "    </tr>\n",
       "  </tbody>\n",
       "</table>\n",
       "</div>"
      ],
      "text/plain": [
       "   region  tenure  age  marital  address  income  ed  employ  retire  gender  \\\n",
       "0       2      13   44        1        9    64.0   4       5     0.0       0   \n",
       "1       3      11   33        1        7   136.0   5       5     0.0       0   \n",
       "2       3      68   52        1       24   116.0   1      29     0.0       1   \n",
       "3       2      33   33        0       12    33.0   2       0     0.0       1   \n",
       "4       2      23   30        1        9    30.0   1       2     0.0       0   \n",
       "\n",
       "   reside  custcat  \n",
       "0       2        1  \n",
       "1       6        4  \n",
       "2       2        3  \n",
       "3       1        1  \n",
       "4       4        3  "
      ]
     },
     "execution_count": 102,
     "metadata": {},
     "output_type": "execute_result"
    }
   ],
   "source": [
    "df=pd.read_csv(\"teleCust1000t.csv\")\n",
    "df.head()"
   ]
  },
  {
   "cell_type": "markdown",
   "id": "add609a1-9c15-4bdd-a188-6de99e975de6",
   "metadata": {},
   "source": [
    "#### get number if custcat"
   ]
  },
  {
   "cell_type": "code",
   "execution_count": 103,
   "id": "e8a5e2df-ebf4-4c4f-8767-29de675afc4c",
   "metadata": {},
   "outputs": [
    {
     "data": {
      "text/plain": [
       "3    281\n",
       "1    266\n",
       "4    236\n",
       "2    217\n",
       "Name: custcat, dtype: int64"
      ]
     },
     "execution_count": 103,
     "metadata": {},
     "output_type": "execute_result"
    }
   ],
   "source": [
    "df[\"custcat\"].value_counts()\n",
    "\n",
    "# category          number of category\n",
    "# 3                   281\n",
    "# 1                   266\n",
    "# 4                   236\n",
    "# 2                   217"
   ]
  },
  {
   "cell_type": "markdown",
   "id": "4bafb9b9-7397-4ecd-a03b-e947e1cb4076",
   "metadata": {},
   "source": [
    "##### convert pandas dataType to array"
   ]
  },
  {
   "cell_type": "code",
   "execution_count": 104,
   "id": "bb7dec15-fb89-4b7b-a17c-f2d9673b40ad",
   "metadata": {},
   "outputs": [
    {
     "data": {
      "text/plain": [
       "array([[  2.,  13.,  44.,   1.,   9.,  64.,   4.,   0.],\n",
       "       [  3.,  11.,  33.,   1.,   7., 136.,   5.,   0.],\n",
       "       [  3.,  68.,  52.,   1.,  24., 116.,   1.,   0.],\n",
       "       [  2.,  33.,  33.,   0.,  12.,  33.,   2.,   0.],\n",
       "       [  2.,  23.,  30.,   1.,   9.,  30.,   1.,   0.]])"
      ]
     },
     "execution_count": 104,
     "metadata": {},
     "output_type": "execute_result"
    }
   ],
   "source": [
    "x=df[[\"region\",\"tenure\",\"age\",\"marital\",\"address\",\"income\",\"ed\",\"retire\"]]\n",
    "x=np.asanyarray(x)\n",
    "x[0:5]"
   ]
  },
  {
   "cell_type": "markdown",
   "id": "5411a820-318b-4bef-851e-e6ac829a27ec",
   "metadata": {},
   "source": [
    "##### convert pandas dataType to array"
   ]
  },
  {
   "cell_type": "code",
   "execution_count": 105,
   "id": "39070ab5-1f84-4966-be68-b86a630133a7",
   "metadata": {},
   "outputs": [
    {
     "data": {
      "text/plain": [
       "array([1, 4, 3, 1, 3], dtype=int64)"
      ]
     },
     "execution_count": 105,
     "metadata": {},
     "output_type": "execute_result"
    }
   ],
   "source": [
    "y=df[\"custcat\"]\n",
    "y=np.asanyarray(y)\n",
    "y[0:5]"
   ]
  },
  {
   "cell_type": "markdown",
   "id": "3c952a55-2f06-495e-b304-f43ba8178fa3",
   "metadata": {},
   "source": [
    "##### normalize data"
   ]
  },
  {
   "cell_type": "code",
   "execution_count": 106,
   "id": "66707d6c-29b2-48ae-989a-259fbbebc233",
   "metadata": {},
   "outputs": [
    {
     "name": "stdout",
     "output_type": "stream",
     "text": [
      "[[  2.  13.  44.   1.   9.  64.   4.   0.]\n",
      " [  3.  11.  33.   1.   7. 136.   5.   0.]\n",
      " [  3.  68.  52.   1.  24. 116.   1.   0.]\n",
      " [  2.  33.  33.   0.  12.  33.   2.   0.]\n",
      " [  2.  23.  30.   1.   9.  30.   1.   0.]]\n",
      "[[-0.02696767 -1.055125    0.18450456  1.0100505  -0.25303431 -0.12650641\n",
      "   1.0877526  -0.22207644]\n",
      " [ 1.19883553 -1.14880563 -0.69181243  1.0100505  -0.4514148   0.54644972\n",
      "   1.9062271  -0.22207644]\n",
      " [ 1.19883553  1.52109247  0.82182601  1.0100505   1.23481934  0.35951747\n",
      "  -1.36767088 -0.22207644]\n",
      " [-0.02696767 -0.11831864 -0.69181243 -0.9900495   0.04453642 -0.41625141\n",
      "  -0.54919639 -0.22207644]\n",
      " [-0.02696767 -0.58672182 -0.93080797  1.0100505  -0.25303431 -0.44429125\n",
      "  -1.36767088 -0.22207644]]\n"
     ]
    }
   ],
   "source": [
    "print(x[0:5])\n",
    "normalize_data=preprocessing.StandardScaler()\n",
    "x=normalize_data.fit(x).transform(x.astype(float))\n",
    "print(x[0:5])"
   ]
  },
  {
   "cell_type": "markdown",
   "id": "c605237b-a764-49e0-8553-1774b6af1aeb",
   "metadata": {},
   "source": [
    "#### train and test data"
   ]
  },
  {
   "cell_type": "code",
   "execution_count": 107,
   "id": "ef80471d-af81-4a45-97fb-a99585001cb2",
   "metadata": {},
   "outputs": [
    {
     "name": "stdout",
     "output_type": "stream",
     "text": [
      "Train set: (800, 8) (800,)\n",
      "Test set: (200, 8) (200,)\n"
     ]
    }
   ],
   "source": [
    "from sklearn.model_selection import train_test_split\n",
    "x_train, x_test, y_train, y_test = train_test_split( x, y, train_size=0.8, random_state=4)\n",
    "print ('Train set:', x_train.shape,  y_train.shape)\n",
    "print ('Test set:', x_test.shape,  y_test.shape)"
   ]
  },
  {
   "cell_type": "markdown",
   "id": "81779a87-403a-4cad-a300-37016768557c",
   "metadata": {},
   "source": [
    "#### start work with knn alghorithm"
   ]
  },
  {
   "cell_type": "code",
   "execution_count": 140,
   "id": "256e32b9-9013-4958-83e2-ac2eaa7f2c08",
   "metadata": {},
   "outputs": [
    {
     "data": {
      "text/plain": [
       "KNeighborsClassifier(n_neighbors=4)"
      ]
     },
     "execution_count": 140,
     "metadata": {},
     "output_type": "execute_result"
    }
   ],
   "source": [
    "from sklearn.neighbors import KNeighborsClassifier\n",
    "model=KNeighborsClassifier(n_neighbors=4)\n",
    "model.fit(x_train,y_train)"
   ]
  },
  {
   "cell_type": "markdown",
   "id": "b91fcf70-40c2-4735-97ee-dd149d4083ec",
   "metadata": {},
   "source": [
    "#### predict new data"
   ]
  },
  {
   "cell_type": "code",
   "execution_count": 141,
   "id": "80160745-d41d-40a6-a9bf-8877d95cec06",
   "metadata": {},
   "outputs": [
    {
     "data": {
      "text/plain": [
       "array([3], dtype=int64)"
      ]
     },
     "execution_count": 141,
     "metadata": {},
     "output_type": "execute_result"
    }
   ],
   "source": [
    "x_new=np.array([[2,58,20,0,6,78.14,3,0.0]])\n",
    "y_new=model.predict(x_new)\n",
    "y_new"
   ]
  },
  {
   "cell_type": "markdown",
   "id": "417e2612-2c23-49b8-979b-4cb2939b0703",
   "metadata": {},
   "source": [
    "#### Evaluating the Model by test data"
   ]
  },
  {
   "cell_type": "code",
   "execution_count": 142,
   "id": "37a1be26-6394-4653-aa2d-1ba762c58b93",
   "metadata": {},
   "outputs": [
    {
     "name": "stdout",
     "output_type": "stream",
     "text": [
      "test set predict by machine : [1 3 1 4 4 1 3 4 4 4 1 4 4 3 1 1 3 2 4 4 3 3 1 1 4 4 2 2 1 2 3 4 4 1 1 2 1\n",
      " 1 3 2 1 2 3 2 2 1 3 2 4 2 1 1 1 1 2 2 3 1 4 4 1 4 2 3 4 1 4 2 2 4 1 3 3 3\n",
      " 1 4 4 2 2 2 2 1 1 1 4 2 3 3 3 1 1 4 1 1 4 1 2 2 1 3 3 1 1 1 1 4 3 3 2 1 1\n",
      " 1 3 2 1 3 1 3 3 1 1 1 2 1 1 2 4 4 1 2 3 1 1 3 3 3 3 4 1 3 1 3 1 1 1 2 4 1\n",
      " 2 2 1 2 2 2 2 3 3 3 1 3 2 1 1 1 3 1 4 3 3 4 3 1 2 2 2 2 1 1 1 1 1 2 1 1 2\n",
      " 3 1 3 1 1 1 1 1 1 3 4 1 1 3 1]\n"
     ]
    }
   ],
   "source": [
    "y_predict=model.predict(x_test)\n",
    "print(f\"test set predict by machine : {y_predict}\")"
   ]
  },
  {
   "cell_type": "markdown",
   "id": "c8f74df4-a5f2-4dad-9668-a7b62847a21a",
   "metadata": {},
   "source": [
    "#### Accuracy  predict y by machine and real y"
   ]
  },
  {
   "cell_type": "code",
   "execution_count": 143,
   "id": "32caad7e-320b-45c6-b643-8c7ec9779f74",
   "metadata": {},
   "outputs": [
    {
     "data": {
      "text/plain": [
       "0.34"
      ]
     },
     "execution_count": 143,
     "metadata": {},
     "output_type": "execute_result"
    }
   ],
   "source": [
    "from sklearn import metrics\n",
    "accuracy_model=metrics.accuracy_score(y_test, y_predict)\n",
    "accuracy_model"
   ]
  },
  {
   "cell_type": "code",
   "execution_count": null,
   "id": "5cc87a7f-8d91-42c7-8d16-83f7fd1aad9c",
   "metadata": {},
   "outputs": [],
   "source": []
  },
  {
   "cell_type": "markdown",
   "id": "f265cc47-4a00-4e89-96b3-afc5d6e2b213",
   "metadata": {},
   "source": [
    "#### accurecy model by every k"
   ]
  },
  {
   "cell_type": "code",
   "execution_count": 199,
   "id": "d953a448-4da4-4b49-94bc-e0d0d28938a6",
   "metadata": {},
   "outputs": [],
   "source": [
    "# list of accuracy score our model for any k\n",
    "accuracy = []\n",
    "\n",
    "# Calculating error for K values between 1 and 40\n",
    "for i in range(1, 10):\n",
    "    my_model = KNeighborsClassifier(n_neighbors=i)\n",
    "    my_model.fit(x_train, y_train)\n",
    "    y_predict = my_model.predict(x_test)\n",
    "    accuracy.append(metrics.accuracy_score(y_test, y_predict))"
   ]
  },
  {
   "cell_type": "code",
   "execution_count": 200,
   "id": "ad54232e-c66e-493b-9ca6-6d53c3eebdd0",
   "metadata": {},
   "outputs": [
    {
     "data": {
      "text/plain": [
       "Text(0, 0.5, 'Mean accuracy')"
      ]
     },
     "execution_count": 200,
     "metadata": {},
     "output_type": "execute_result"
    },
    {
     "data": {
      "image/png": "[encoded data removed]",
      "text/plain": [
       "<Figure size 432x288 with 1 Axes>"
      ]
     },
     "metadata": {
      "needs_background": "light"
     },
     "output_type": "display_data"
    }
   ],
   "source": [
    "plt.plot(range(1, 10), accuracy, color='red', linestyle='dashed', marker='o',markerfacecolor='blue', markersize=10)\n",
    "plt.title('accuracy Rate K Value')\n",
    "plt.xlabel('K Value')\n",
    "plt.ylabel('Mean accuracy')"
   ]
  },
  {
   "cell_type": "code",
   "execution_count": null,
   "id": "b8feb6be-391e-496c-8b43-d919d58804e9",
   "metadata": {},
   "outputs": [],
   "source": []
  },
  {
   "cell_type": "code",
   "execution_count": null,
   "id": "0596dee1-7ed3-426a-a566-3c96a85f8418",
   "metadata": {},
   "outputs": [],
   "source": []
  }
 ],
 "metadata": {
  "kernelspec": {
   "display_name": "Python 3 (ipykernel)",
   "language": "python",
   "name": "python3"
  },
  "language_info": {
   "codemirror_mode": {
    "name": "ipython",
    "version": 3
   },
   "file_extension": ".py",
   "mimetype": "text/x-python",
   "name": "python",
   "nbconvert_exporter": "python",
   "pygments_lexer": "ipython3",
   "version": "3.9.0"
  }
 },
 "nbformat": 4,
 "nbformat_minor": 5
}
