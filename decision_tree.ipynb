{
 "cells": [
  {
   "cell_type": "code",
   "execution_count": 103,
   "id": "f3ffb7bb-62c3-45e3-ac58-b7b5438e0b5e",
   "metadata": {},
   "outputs": [],
   "source": [
    "import pandas as pd\n",
    "import numpy as np\n",
    "from sklearn.tree import DecisionTreeClassifier"
   ]
  },
  {
   "cell_type": "markdown",
   "id": "5b867de4-c0e3-4869-9a79-c4278d4f6bca",
   "metadata": {},
   "source": [
    "##### get data frame"
   ]
  },
  {
   "cell_type": "code",
   "execution_count": 104,
   "id": "16466962-386f-4dae-8a6c-709d16686edc",
   "metadata": {},
   "outputs": [
    {
     "data": {
      "text/html": [
       "<div>\n",
       "<style scoped>\n",
       "    .dataframe tbody tr th:only-of-type {\n",
       "        vertical-align: middle;\n",
       "    }\n",
       "\n",
       "    .dataframe tbody tr th {\n",
       "        vertical-align: top;\n",
       "    }\n",
       "\n",
       "    .dataframe thead th {\n",
       "        text-align: right;\n",
       "    }\n",
       "</style>\n",
       "<table border=\"1\" class=\"dataframe\">\n",
       "  <thead>\n",
       "    <tr style=\"text-align: right;\">\n",
       "      <th></th>\n",
       "      <th>Age</th>\n",
       "      <th>Sex</th>\n",
       "      <th>BP</th>\n",
       "      <th>Cholesterol</th>\n",
       "      <th>Na_to_K</th>\n",
       "      <th>Drug</th>\n",
       "    </tr>\n",
       "  </thead>\n",
       "  <tbody>\n",
       "    <tr>\n",
       "      <th>0</th>\n",
       "      <td>23</td>\n",
       "      <td>F</td>\n",
       "      <td>HIGH</td>\n",
       "      <td>HIGH</td>\n",
       "      <td>25.355</td>\n",
       "      <td>drugY</td>\n",
       "    </tr>\n",
       "    <tr>\n",
       "      <th>1</th>\n",
       "      <td>47</td>\n",
       "      <td>M</td>\n",
       "      <td>LOW</td>\n",
       "      <td>HIGH</td>\n",
       "      <td>13.093</td>\n",
       "      <td>drugC</td>\n",
       "    </tr>\n",
       "    <tr>\n",
       "      <th>2</th>\n",
       "      <td>47</td>\n",
       "      <td>M</td>\n",
       "      <td>LOW</td>\n",
       "      <td>HIGH</td>\n",
       "      <td>10.114</td>\n",
       "      <td>drugC</td>\n",
       "    </tr>\n",
       "    <tr>\n",
       "      <th>3</th>\n",
       "      <td>28</td>\n",
       "      <td>F</td>\n",
       "      <td>NORMAL</td>\n",
       "      <td>HIGH</td>\n",
       "      <td>7.798</td>\n",
       "      <td>drugX</td>\n",
       "    </tr>\n",
       "    <tr>\n",
       "      <th>4</th>\n",
       "      <td>61</td>\n",
       "      <td>F</td>\n",
       "      <td>LOW</td>\n",
       "      <td>HIGH</td>\n",
       "      <td>18.043</td>\n",
       "      <td>drugY</td>\n",
       "    </tr>\n",
       "  </tbody>\n",
       "</table>\n",
       "</div>"
      ],
      "text/plain": [
       "   Age Sex      BP Cholesterol  Na_to_K   Drug\n",
       "0   23   F    HIGH        HIGH   25.355  drugY\n",
       "1   47   M     LOW        HIGH   13.093  drugC\n",
       "2   47   M     LOW        HIGH   10.114  drugC\n",
       "3   28   F  NORMAL        HIGH    7.798  drugX\n",
       "4   61   F     LOW        HIGH   18.043  drugY"
      ]
     },
     "execution_count": 104,
     "metadata": {},
     "output_type": "execute_result"
    }
   ],
   "source": [
    "df=pd.read_csv(\"drug200.csv\")\n",
    "df.head()"
   ]
  },
  {
   "cell_type": "markdown",
   "id": "23a8289e-8f5b-428c-8f0e-be094b83848f",
   "metadata": {},
   "source": [
    "##### convert pandas data to arrahead"
   ]
  },
  {
   "cell_type": "code",
   "execution_count": 105,
   "id": "4270d57a-bd27-4ccc-b3f8-09d07c3f7541",
   "metadata": {},
   "outputs": [],
   "source": [
    "x=df[[\"Age\",\"Sex\",\"BP\",\"Cholesterol\",\"Na_to_K\"]]\n",
    "x=np.asanyarray(x)\n",
    "y=df[[\"Drug\"]]\n",
    "y=np.asanyarray(y)"
   ]
  },
  {
   "cell_type": "markdown",
   "id": "f7171bb3-1766-4fd5-824a-e9a1b6103e0f",
   "metadata": {},
   "source": [
    "#### convert sex column data and BP and Cholesterol to number data"
   ]
  },
  {
   "cell_type": "code",
   "execution_count": 106,
   "id": "278419bb-355d-4605-8229-1cb8256ee34b",
   "metadata": {},
   "outputs": [
    {
     "data": {
      "text/plain": [
       "array([[23, 0, 0, 0, 25.355],\n",
       "       [47, 1, 1, 0, 13.093],\n",
       "       [47, 1, 1, 0, 10.114],\n",
       "       [28, 0, 2, 0, 7.798],\n",
       "       [61, 0, 1, 0, 18.043]], dtype=object)"
      ]
     },
     "execution_count": 106,
     "metadata": {},
     "output_type": "execute_result"
    }
   ],
   "source": [
    "from sklearn import preprocessing \n",
    "\n",
    "sex=preprocessing.LabelEncoder()\n",
    "sex.fit(['F','M'])\n",
    "x[:,1]=sex.transform(x[:,1])\n",
    "\n",
    "bp = preprocessing.LabelEncoder()\n",
    "bp.fit([ 'LOW', 'NORMAL', 'HIGH'])\n",
    "x[:,2] = bp.transform(x[:,2])\n",
    "\n",
    "\n",
    "chol = preprocessing.LabelEncoder()\n",
    "chol.fit([ 'NORMAL', 'HIGH'])\n",
    "x[:,3] = chol.transform(x[:,3]) \n",
    "\n",
    "x[0:5]"
   ]
  },
  {
   "cell_type": "markdown",
   "id": "ed9629fb-14b6-429e-a45d-6f4544cb5cc8",
   "metadata": {},
   "source": [
    "#### train and test data"
   ]
  },
  {
   "cell_type": "code",
   "execution_count": 117,
   "id": "8dffe7c0-9eed-4239-be2b-3afeeac2ea55",
   "metadata": {},
   "outputs": [],
   "source": [
    "from sklearn.model_selection import train_test_split\n",
    "x_train,x_test,y_train,y_test=train_test_split(x,y,train_size=0.8,random_state=4)"
   ]
  },
  {
   "cell_type": "markdown",
   "id": "016ddc5c-043e-4db4-a334-24fe4f21c35c",
   "metadata": {},
   "source": [
    "#### model tree"
   ]
  },
  {
   "cell_type": "code",
   "execution_count": 118,
   "id": "c61c6a75-6979-49d3-b7e2-c837d6f36fd7",
   "metadata": {},
   "outputs": [
    {
     "data": {
      "text/plain": [
       "DecisionTreeClassifier(criterion='entropy', max_depth=4)"
      ]
     },
     "execution_count": 118,
     "metadata": {},
     "output_type": "execute_result"
    }
   ],
   "source": [
    "model=DecisionTreeClassifier(criterion=\"entropy\", max_depth = 4)\n",
    "model.fit(x_train,y_train)"
   ]
  },
  {
   "cell_type": "markdown",
   "id": "fd1238ac-21ec-49a1-871b-d75a89fab205",
   "metadata": {},
   "source": [
    "# predict data"
   ]
  },
  {
   "cell_type": "code",
   "execution_count": 121,
   "id": "484c55e3-d986-49c3-b9a1-25c859ff5778",
   "metadata": {},
   "outputs": [],
   "source": [
    "y_predict_test=model.predict(x_test)"
   ]
  },
  {
   "cell_type": "markdown",
   "id": "90d3189c-001d-4ee9-bd4a-e37bd4c82510",
   "metadata": {},
   "source": [
    "### accuracy predict"
   ]
  },
  {
   "cell_type": "code",
   "execution_count": 123,
   "id": "542035cc-74c1-428b-a13a-a99bd3199edb",
   "metadata": {},
   "outputs": [
    {
     "name": "stdout",
     "output_type": "stream",
     "text": [
      "DecisionTrees's Accuracy:  0.95\n"
     ]
    }
   ],
   "source": [
    "from sklearn import metrics\n",
    "print(\"DecisionTrees's Accuracy: \", metrics.accuracy_score(y_test, y_predict_test))"
   ]
  },
  {
   "cell_type": "code",
   "execution_count": null,
   "id": "85a0d114-075b-4052-90d9-dbc2d509a0ba",
   "metadata": {},
   "outputs": [],
   "source": []
  },
  {
   "cell_type": "code",
   "execution_count": null,
   "id": "f7b43507-8986-41c1-a155-8cf6a04831c6",
   "metadata": {},
   "outputs": [],
   "source": []
  },
  {
   "cell_type": "code",
   "execution_count": null,
   "id": "ab9b4510-1203-4aba-b95c-5cc89357ccb6",
   "metadata": {},
   "outputs": [],
   "source": []
  }
 ],
 "metadata": {
  "kernelspec": {
   "display_name": "Python 3 (ipykernel)",
   "language": "python",
   "name": "python3"
  },
  "language_info": {
   "codemirror_mode": {
    "name": "ipython",
    "version": 3
   },
   "file_extension": ".py",
   "mimetype": "text/x-python",
   "name": "python",
   "nbconvert_exporter": "python",
   "pygments_lexer": "ipython3",
   "version": "3.9.0"
  }
 },
 "nbformat": 4,
 "nbformat_minor": 5
}
